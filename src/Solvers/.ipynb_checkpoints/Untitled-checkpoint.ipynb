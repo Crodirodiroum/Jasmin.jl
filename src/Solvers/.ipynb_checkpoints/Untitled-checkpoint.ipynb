{
 "cells": [
  {
   "cell_type": "code",
   "execution_count": 1,
   "id": "bab4ba49",
   "metadata": {},
   "outputs": [],
   "source": [
    "using LinearAlgebra"
   ]
  },
  {
   "cell_type": "code",
   "execution_count": 6,
   "id": "25b8e8a2",
   "metadata": {},
   "outputs": [],
   "source": [
    "struct FunkyMatrix{T} <: AbstractMatrix{T}\n",
    "    M::Matrix{T}\n",
    "    function FunkyMatrix(M::Matrix{T}) where T\n",
    "        m, n = size(M)\n",
    "        myI = Array{T, 2}(I, m-1, m-1)\n",
    "        M2 = [M [myI; zeros(T, 1, m-1)]]\n",
    "        return new{T}(M2)\n",
    "    end\n",
    "end"
   ]
  },
  {
   "cell_type": "code",
   "execution_count": 17,
   "id": "3e7c68fb",
   "metadata": {},
   "outputs": [],
   "source": [
    "function Base.size(fm::FunkyMatrix, k::Int)\n",
    "    k == 1 && return size(fm.M, 1)\n",
    "    k == 2 && return size(fm.M, 2) - length(fm.w)\n",
    "end\n",
    "function Base.size(fm)\n",
    "    return size(fm, 1), size(fm, 2)\n",
    "end\n",
    "function Base.display(X::FunkyMatrix)\n",
    "    M = X.M\n",
    "    m, n = size(M)\n",
    "    lines = setdiff(1:n, X.w)\n",
    "    viewed = @view(M[:, lines])\n",
    "    display(viewed)\n",
    "end\n",
    "function Base.show(io::IOContext{IOBuffer}, ::MIME{Symbol(\"text/plain\")}, X::FunkyMatrix{T, S, W}) where {T, S, W}\n",
    "    M = X.M\n",
    "    m, n = size(M)\n",
    "    lines = setdiff(1:n, X.w)\n",
    "    viewed = @view(M[:, lines])\n",
    "    show(io, viewed)\n",
    "end"
   ]
  },
  {
   "cell_type": "code",
   "execution_count": 18,
   "id": "25aec5dc",
   "metadata": {},
   "outputs": [
    {
     "data": {
      "text/plain": [
       "[0.0845539830594002 0.3947222315179353 … 0.10222918251962865 0.48893704694492324; 0.5859315701546344 0.3435432117534627 … 0.9148082658071837 0.8019083225655657; 0.6117582972178572 0.8510633813874215 … 0.01075572648626677 0.5808493866809274; 0.18392866162852495 0.47449836511221943 … 0.2219535142734539 0.9143428439171841]"
      ]
     },
     "execution_count": 18,
     "metadata": {},
     "output_type": "execute_result"
    }
   ],
   "source": [
    "fm = FunkyMatrix(rand(4, 6))"
   ]
  },
  {
   "cell_type": "code",
   "execution_count": 19,
   "id": "7026e4c0",
   "metadata": {},
   "outputs": [
    {
     "data": {
      "text/plain": [
       "4×6 view(::Matrix{Float64}, :, [1, 2, 3, 4, 5, 6]) with eltype Float64:\n",
       " 0.084554  0.394722  0.452295  0.967119  0.102229   0.488937\n",
       " 0.585932  0.343543  0.307635  0.360398  0.914808   0.801908\n",
       " 0.611758  0.851063  0.70438   0.399726  0.0107557  0.580849\n",
       " 0.183929  0.474498  0.072463  0.397693  0.221954   0.914343"
      ]
     },
     "metadata": {},
     "output_type": "display_data"
    }
   ],
   "source": [
    "display(fm)"
   ]
  },
  {
   "cell_type": "code",
   "execution_count": null,
   "id": "97227590",
   "metadata": {},
   "outputs": [],
   "source": []
  }
 ],
 "metadata": {
  "kernelspec": {
   "display_name": "Julia 1.6.2",
   "language": "julia",
   "name": "julia-1.6"
  },
  "language_info": {
   "file_extension": ".jl",
   "mimetype": "application/julia",
   "name": "julia",
   "version": "1.6.2"
  }
 },
 "nbformat": 4,
 "nbformat_minor": 5
}
